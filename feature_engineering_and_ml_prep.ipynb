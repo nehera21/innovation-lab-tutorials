{
 "cells": [
  {
   "cell_type": "markdown",
   "id": "1d566eef",
   "metadata": {},
   "source": [
    "# Tutorial 2: Feature Engineering and ML Preparation\n",
    "\n",
    "Welcome back! In the previous tutorial, we learned how to load and clean data. Now we'll take the next step: **transforming our clean data into features that machine learning models can learn from effectively**.\n",
    "\n",
    "## What is Feature Engineering?\n",
    "\n",
    "Feature engineering is the art and science of creating new features from existing data to improve model performance. It's often said that:\n",
    "\n",
    "> *\"Better features beat better algorithms.\"*\n",
    "\n",
    "A simple model with great features often outperforms a complex model with poor features!\n",
    "\n",
    "## Why Does This Matter for ML?\n",
    "\n",
    "- **Better Predictions**: Well-engineered features help models find patterns more easily\n",
    "- **Reduced Complexity**: Good features can make simple models work as well as complex ones\n",
    "- **Domain Knowledge**: Feature engineering lets you incorporate what you know about the problem\n",
    "- **Model Performance**: Can dramatically improve accuracy, precision, and other metrics\n",
    "\n",
    "## What We'll Learn\n",
    "\n",
    "1. **Feature Scaling & Normalization** - Making features comparable\n",
    "2. **Encoding Techniques** - Advanced categorical encoding\n",
    "3. **Feature Creation** - Building new features from existing ones\n",
    "4. **Feature Selection** - Choosing the most important features\n",
    "5. **Train-Test Splitting** - Properly dividing data for ML\n",
    "6. **Handling Imbalanced Data** - Dealing with unequal class distributions\n",
    "\n",
    "Let's get started! 🚀"
   ]
  },
  {
   "cell_type": "markdown",
   "id": "8ea424a9",
   "metadata": {},
   "source": [
    "## Import Libraries and Load Data\n",
    "\n",
    "We'll start by importing our essential libraries and loading the Titanic dataset."
   ]
  },
  {
   "cell_type": "code",
   "execution_count": 74,
   "id": "62715443",
   "metadata": {},
   "outputs": [],
   "source": [
    "# Core libraries\n",
    "import pandas as pd\n",
    "import numpy as np\n",
    "import seaborn as sns\n",
    "import matplotlib.pyplot as plt\n",
    "\n",
    "# ML preprocessing libraries\n",
    "from sklearn.preprocessing import StandardScaler, MinMaxScaler, LabelEncoder\n",
    "from sklearn.model_selection import train_test_split\n",
    "from sklearn.feature_selection import SelectKBest, f_classif, mutual_info_classif\n",
    "\n",
    "# Set display options\n",
    "pd.set_option('display.max_columns', None)\n",
    "pd.set_option('display.precision', 3)"
   ]
  },
  {
   "cell_type": "markdown",
   "id": "475a9dfc",
   "metadata": {},
   "source": [
    "### Load and Prepare the Titanic Dataset\n",
    "\n",
    "Let's load the data and perform the basic cleaning steps we learned in the previous tutorial."
   ]
  },
  {
   "cell_type": "code",
   "execution_count": 75,
   "id": "463c53e1",
   "metadata": {},
   "outputs": [
    {
     "name": "stdout",
     "output_type": "stream",
     "text": [
      "Dataset loaded: 891 rows, 13 columns\n",
      "\n",
      "First few rows:\n"
     ]
    },
    {
     "name": "stderr",
     "output_type": "stream",
     "text": [
      "C:\\Users\\nehera\\AppData\\Local\\Temp\\ipykernel_17940\\625854397.py:8: FutureWarning: A value is trying to be set on a copy of a DataFrame or Series through chained assignment using an inplace method.\n",
      "The behavior will change in pandas 3.0. This inplace method will never work because the intermediate object on which we are setting values always behaves as a copy.\n",
      "\n",
      "For example, when doing 'df[col].method(value, inplace=True)', try using 'df.method({col: value}, inplace=True)' or df[col] = df[col].method(value) instead, to perform the operation inplace on the original object.\n",
      "\n",
      "\n",
      "  df_clean['age'].fillna(df_clean['age'].median(), inplace=True)\n",
      "C:\\Users\\nehera\\AppData\\Local\\Temp\\ipykernel_17940\\625854397.py:9: FutureWarning: A value is trying to be set on a copy of a DataFrame or Series through chained assignment using an inplace method.\n",
      "The behavior will change in pandas 3.0. This inplace method will never work because the intermediate object on which we are setting values always behaves as a copy.\n",
      "\n",
      "For example, when doing 'df[col].method(value, inplace=True)', try using 'df.method({col: value}, inplace=True)' or df[col] = df[col].method(value) instead, to perform the operation inplace on the original object.\n",
      "\n",
      "\n",
      "  df_clean['embarked'].fillna(df_clean['embarked'].mode()[0], inplace=True)\n"
     ]
    },
    {
     "data": {
      "text/html": [
       "<div>\n",
       "<style scoped>\n",
       "    .dataframe tbody tr th:only-of-type {\n",
       "        vertical-align: middle;\n",
       "    }\n",
       "\n",
       "    .dataframe tbody tr th {\n",
       "        vertical-align: top;\n",
       "    }\n",
       "\n",
       "    .dataframe thead th {\n",
       "        text-align: right;\n",
       "    }\n",
       "</style>\n",
       "<table border=\"1\" class=\"dataframe\">\n",
       "  <thead>\n",
       "    <tr style=\"text-align: right;\">\n",
       "      <th></th>\n",
       "      <th>survived</th>\n",
       "      <th>pclass</th>\n",
       "      <th>sex</th>\n",
       "      <th>age</th>\n",
       "      <th>sibsp</th>\n",
       "      <th>parch</th>\n",
       "      <th>fare</th>\n",
       "      <th>embarked</th>\n",
       "      <th>class</th>\n",
       "      <th>who</th>\n",
       "      <th>adult_male</th>\n",
       "      <th>alive</th>\n",
       "      <th>alone</th>\n",
       "    </tr>\n",
       "  </thead>\n",
       "  <tbody>\n",
       "    <tr>\n",
       "      <th>0</th>\n",
       "      <td>0</td>\n",
       "      <td>3</td>\n",
       "      <td>male</td>\n",
       "      <td>22.0</td>\n",
       "      <td>1</td>\n",
       "      <td>0</td>\n",
       "      <td>7.250</td>\n",
       "      <td>S</td>\n",
       "      <td>Third</td>\n",
       "      <td>man</td>\n",
       "      <td>True</td>\n",
       "      <td>no</td>\n",
       "      <td>False</td>\n",
       "    </tr>\n",
       "    <tr>\n",
       "      <th>1</th>\n",
       "      <td>1</td>\n",
       "      <td>1</td>\n",
       "      <td>female</td>\n",
       "      <td>38.0</td>\n",
       "      <td>1</td>\n",
       "      <td>0</td>\n",
       "      <td>71.283</td>\n",
       "      <td>C</td>\n",
       "      <td>First</td>\n",
       "      <td>woman</td>\n",
       "      <td>False</td>\n",
       "      <td>yes</td>\n",
       "      <td>False</td>\n",
       "    </tr>\n",
       "    <tr>\n",
       "      <th>2</th>\n",
       "      <td>1</td>\n",
       "      <td>3</td>\n",
       "      <td>female</td>\n",
       "      <td>26.0</td>\n",
       "      <td>0</td>\n",
       "      <td>0</td>\n",
       "      <td>7.925</td>\n",
       "      <td>S</td>\n",
       "      <td>Third</td>\n",
       "      <td>woman</td>\n",
       "      <td>False</td>\n",
       "      <td>yes</td>\n",
       "      <td>True</td>\n",
       "    </tr>\n",
       "    <tr>\n",
       "      <th>3</th>\n",
       "      <td>1</td>\n",
       "      <td>1</td>\n",
       "      <td>female</td>\n",
       "      <td>35.0</td>\n",
       "      <td>1</td>\n",
       "      <td>0</td>\n",
       "      <td>53.100</td>\n",
       "      <td>S</td>\n",
       "      <td>First</td>\n",
       "      <td>woman</td>\n",
       "      <td>False</td>\n",
       "      <td>yes</td>\n",
       "      <td>False</td>\n",
       "    </tr>\n",
       "    <tr>\n",
       "      <th>4</th>\n",
       "      <td>0</td>\n",
       "      <td>3</td>\n",
       "      <td>male</td>\n",
       "      <td>35.0</td>\n",
       "      <td>0</td>\n",
       "      <td>0</td>\n",
       "      <td>8.050</td>\n",
       "      <td>S</td>\n",
       "      <td>Third</td>\n",
       "      <td>man</td>\n",
       "      <td>True</td>\n",
       "      <td>no</td>\n",
       "      <td>True</td>\n",
       "    </tr>\n",
       "  </tbody>\n",
       "</table>\n",
       "</div>"
      ],
      "text/plain": [
       "   survived  pclass     sex   age  sibsp  parch    fare embarked  class  \\\n",
       "0         0       3    male  22.0      1      0   7.250        S  Third   \n",
       "1         1       1  female  38.0      1      0  71.283        C  First   \n",
       "2         1       3  female  26.0      0      0   7.925        S  Third   \n",
       "3         1       1  female  35.0      1      0  53.100        S  First   \n",
       "4         0       3    male  35.0      0      0   8.050        S  Third   \n",
       "\n",
       "     who  adult_male alive  alone  \n",
       "0    man        True    no  False  \n",
       "1  woman       False   yes  False  \n",
       "2  woman       False   yes   True  \n",
       "3  woman       False   yes  False  \n",
       "4    man        True    no   True  "
      ]
     },
     "execution_count": 75,
     "metadata": {},
     "output_type": "execute_result"
    }
   ],
   "source": [
    "# Load the dataset\n",
    "df = sns.load_dataset('titanic')\n",
    "\n",
    "# Quick cleaning (from previous tutorial)\n",
    "df_clean = df.copy()\n",
    "\n",
    "# Fill missing values\n",
    "df_clean['age'].fillna(df_clean['age'].median(), inplace=True)\n",
    "df_clean['embarked'].fillna(df_clean['embarked'].mode()[0], inplace=True)\n",
    "\n",
    "# Drop columns with too many missing values\n",
    "df_clean.drop(columns=['deck', 'embark_town'], inplace=True)\n",
    "\n",
    "print(f\"Dataset loaded: {df_clean.shape[0]} rows, {df_clean.shape[1]} columns\")\n",
    "print(\"\\nFirst few rows:\")\n",
    "df_clean.head()"
   ]
  },
  {
   "cell_type": "markdown",
   "id": "b12dec86",
   "metadata": {},
   "source": [
    "## Feature Scaling and Normalization\n",
    "\n",
    "### Why Scale Features?\n",
    "\n",
    "Different features often have different scales:\n",
    "- **Age**: 0-80 years\n",
    "- **Fare**: 0-500+ dollars\n",
    "- **Pclass**: 1, 2, or 3\n",
    "\n",
    "Many ML algorithms (like SVM, KNN, Neural Networks) are sensitive to feature scales. Features with larger ranges can dominate the learning process!\n",
    "\n",
    "### Two Main Approaches:\n",
    "\n",
    "1. **Standardization (Z-score normalization)**: Centers data around mean=0, std=1\n",
    "   - Formula: `(x - mean) / std`\n",
    "   - Use when: Data follows normal distribution, or algorithm assumes this (SVM, Logistic Regression)\n",
    "\n",
    "2. **Min-Max Scaling**: Scales data to a fixed range [0, 1]\n",
    "   - Formula: `(x - min) / (max - min)`\n",
    "   - Use when: You need bounded values, or data doesn't follow normal distribution\n",
    "\n",
    "Let's see both in action!"
   ]
  },
  {
   "cell_type": "code",
   "execution_count": 76,
   "id": "42b4c70a",
   "metadata": {},
   "outputs": [
    {
     "name": "stdout",
     "output_type": "stream",
     "text": [
      "BEFORE SCALING:\n",
      "           age     fare    sibsp    parch\n",
      "count  891.000  891.000  891.000  891.000\n",
      "mean    29.362   32.204    0.523    0.382\n",
      "std     13.020   49.693    1.103    0.806\n",
      "min      0.420    0.000    0.000    0.000\n",
      "25%     22.000    7.910    0.000    0.000\n",
      "50%     28.000   14.454    0.000    0.000\n",
      "75%     35.000   31.000    1.000    0.000\n",
      "max     80.000  512.329    8.000    6.000\n",
      "\n",
      "Notice the different scales: age (0-80), fare (0-512), etc.\n"
     ]
    }
   ],
   "source": [
    "# Select numerical features to scale\n",
    "numerical_features = ['age', 'fare', 'sibsp', 'parch']\n",
    "\n",
    "# Before scaling - look at the distributions\n",
    "print(\"BEFORE SCALING:\")\n",
    "print(df_clean[numerical_features].describe())\n",
    "print(\"\\nNotice the different scales: age (0-80), fare (0-512), etc.\")"
   ]
  },
  {
   "cell_type": "markdown",
   "id": "f9309b7d",
   "metadata": {},
   "source": [
    "### StandardScaler (Standardization)"
   ]
  },
  {
   "cell_type": "code",
   "execution_count": 77,
   "id": "10dd1bf0",
   "metadata": {},
   "outputs": [
    {
     "name": "stdout",
     "output_type": "stream",
     "text": [
      "AFTER STANDARDIZATION (StandardScaler):\n",
      "             age       fare      sibsp      parch\n",
      "count  8.910e+02  8.910e+02  8.910e+02  8.910e+02\n",
      "mean   2.273e-16  3.987e-18  4.386e-17  5.383e-17\n",
      "std    1.001e+00  1.001e+00  1.001e+00  1.001e+00\n",
      "min   -2.224e+00 -6.484e-01 -4.745e-01 -4.737e-01\n",
      "25%   -5.657e-01 -4.891e-01 -4.745e-01 -4.737e-01\n",
      "50%   -1.046e-01 -3.574e-01 -4.745e-01 -4.737e-01\n",
      "75%    4.333e-01 -2.425e-02  4.328e-01 -4.737e-01\n",
      "max    3.892e+00  9.667e+00  6.784e+00  6.974e+00\n",
      "\n",
      "Notice: mean ≈ 0, std ≈ 1 for all features!\n"
     ]
    }
   ],
   "source": [
    "# Create a copy for standardization\n",
    "df_standardized = df_clean.copy()\n",
    "\n",
    "# Initialize the scaler\n",
    "scaler_standard = StandardScaler()\n",
    "\n",
    "# Fit and transform the data\n",
    "df_standardized[numerical_features] = scaler_standard.fit_transform(df_clean[numerical_features])\n",
    "\n",
    "print(\"AFTER STANDARDIZATION (StandardScaler):\")\n",
    "print(df_standardized[numerical_features].describe())\n",
    "print(\"\\nNotice: mean ≈ 0, std ≈ 1 for all features!\")"
   ]
  },
  {
   "cell_type": "markdown",
   "id": "d44ef9a9",
   "metadata": {},
   "source": [
    "### MinMaxScaler (Normalization)"
   ]
  },
  {
   "cell_type": "code",
   "execution_count": 78,
   "id": "1cfe01df",
   "metadata": {},
   "outputs": [
    {
     "name": "stdout",
     "output_type": "stream",
     "text": [
      "AFTER MIN-MAX SCALING:\n",
      "           age     fare    sibsp    parch\n",
      "count  891.000  891.000  891.000  891.000\n",
      "mean     0.364    0.063    0.065    0.064\n",
      "std      0.164    0.097    0.138    0.134\n",
      "min      0.000    0.000    0.000    0.000\n",
      "25%      0.271    0.015    0.000    0.000\n",
      "50%      0.347    0.028    0.000    0.000\n",
      "75%      0.435    0.061    0.125    0.000\n",
      "max      1.000    1.000    1.000    1.000\n",
      "\n",
      "Notice: all values are between 0 and 1!\n"
     ]
    }
   ],
   "source": [
    "# Create a copy for min-max scaling\n",
    "df_normalized = df_clean.copy()\n",
    "\n",
    "# Initialize the scaler\n",
    "scaler_minmax = MinMaxScaler()\n",
    "\n",
    "# Fit and transform the data\n",
    "df_normalized[numerical_features] = scaler_minmax.fit_transform(df_clean[numerical_features])\n",
    "\n",
    "print(\"AFTER MIN-MAX SCALING:\")\n",
    "print(df_normalized[numerical_features].describe())\n",
    "print(\"\\nNotice: all values are between 0 and 1!\")"
   ]
  },
  {
   "cell_type": "markdown",
   "id": "72af3f8b",
   "metadata": {},
   "source": [
    "### Visualizing the Difference"
   ]
  },
  {
   "cell_type": "code",
   "execution_count": 79,
   "id": "cf343907",
   "metadata": {},
   "outputs": [
    {
     "data": {
      "image/png": "[encoded data removed]",
      "text/plain": [
       "<Figure size 1500x400 with 3 Axes>"
      ]
     },
     "metadata": {},
     "output_type": "display_data"
    },
    {
     "name": "stdout",
     "output_type": "stream",
     "text": [
      "Key Insight: Shape stays the same, but the scale changes!\n"
     ]
    }
   ],
   "source": [
    "# Compare age distribution across different scaling methods\n",
    "fig, axes = plt.subplots(1, 3, figsize=(15, 4))\n",
    "\n",
    "# Original\n",
    "df_clean['age'].hist(bins=30, ax=axes[0], color='skyblue', edgecolor='black')\n",
    "axes[0].set_title('Original Age Distribution')\n",
    "axes[0].set_xlabel('Age (years)')\n",
    "\n",
    "# Standardized\n",
    "df_standardized['age'].hist(bins=30, ax=axes[1], color='lightgreen', edgecolor='black')\n",
    "axes[1].set_title('Standardized Age (StandardScaler)')\n",
    "axes[1].set_xlabel('Age (z-score)')\n",
    "\n",
    "# Normalized\n",
    "df_normalized['age'].hist(bins=30, ax=axes[2], color='coral', edgecolor='black')\n",
    "axes[2].set_title('Normalized Age (MinMaxScaler)')\n",
    "axes[2].set_xlabel('Age (0-1 scale)')\n",
    "\n",
    "plt.tight_layout()\n",
    "plt.show()\n",
    "\n",
    "print(\"Key Insight: Shape stays the same, but the scale changes!\")"
   ]
  },
  {
   "cell_type": "markdown",
   "id": "4ccc4430",
   "metadata": {},
   "source": [
    "## Categorical Encoding\n",
    "\n",
    "In the previous tutorial, we used simple encoding. Now let's explore more sophisticated techniques!\n",
    "\n",
    "### Encoding Methods:\n",
    "1. **Label Encoding**: Convert to integers (0, 1, 2, ...)\n",
    "2. **One-Hot Encoding**: Create binary columns\n",
    "3. **Frequency Encoding**: Replace with category frequency\n"
   ]
  },
  {
   "cell_type": "markdown",
   "id": "2cc758c2",
   "metadata": {},
   "source": [
    "### Label Encoding (for binary or ordinal features)"
   ]
  },
  {
   "cell_type": "code",
   "execution_count": 80,
   "id": "4f4115cf",
   "metadata": {},
   "outputs": [
    {
     "name": "stdout",
     "output_type": "stream",
     "text": [
      "Sex encoding:\n",
      "      sex  sex_encoded\n",
      "1  female            0\n",
      "0    male            1\n",
      "\n",
      "Mapping: female=0, male=1\n"
     ]
    }
   ],
   "source": [
    "# Use our standardized dataframe\n",
    "df_encoded = df_standardized.copy()\n",
    "\n",
    "# Label encode 'sex' (binary: male/female)\n",
    "label_encoder = LabelEncoder()\n",
    "df_encoded['sex_encoded'] = label_encoder.fit_transform(df_encoded['sex'])\n",
    "\n",
    "print(\"Sex encoding:\")\n",
    "print(df_encoded[['sex', 'sex_encoded']].drop_duplicates().sort_values('sex_encoded'))\n",
    "print(f\"\\nMapping: female={label_encoder.transform(['female'])[0]}, male={label_encoder.transform(['male'])[0]}\")"
   ]
  },
  {
   "cell_type": "markdown",
   "id": "19391f6e",
   "metadata": {},
   "source": [
    "### One-Hot Encoding (for nominal features)"
   ]
  },
  {
   "cell_type": "code",
   "execution_count": 81,
   "id": "0258217f",
   "metadata": {},
   "outputs": [
    {
     "name": "stdout",
     "output_type": "stream",
     "text": [
      "One-hot encoding for 'embarked':\n",
      "  embarked  embarked_Q  embarked_S\n",
      "0        S       False        True\n",
      "1        C       False       False\n",
      "2        S       False        True\n",
      "3        S       False        True\n",
      "4        S       False        True\n",
      "5        Q        True       False\n",
      "6        S       False        True\n",
      "7        S       False        True\n",
      "8        S       False        True\n",
      "9        C       False       False\n",
      "\n",
      "Note: We dropped first category 'embarked_C' to avoid multicollinearity which is when two or more predictor variables are highly correlated.\n",
      "If embarked_Q=0 and embarked_S=0, then embarked='C'\n"
     ]
    }
   ],
   "source": [
    "# One-hot encode 'embarked' (nominal: no natural order)\n",
    "embarked_dummies = pd.get_dummies(df_encoded['embarked'], prefix='embarked', drop_first=True)\n",
    "\n",
    "# Add to dataframe\n",
    "df_encoded = pd.concat([df_encoded, embarked_dummies], axis=1)\n",
    "\n",
    "print(\"One-hot encoding for 'embarked':\")\n",
    "print(df_encoded[['embarked', 'embarked_Q', 'embarked_S']].head(10))\n",
    "print(\"\\nNote: We dropped first category 'embarked_C' to avoid multicollinearity which is when two or more predictor variables are highly correlated.\")\n",
    "print(\"If embarked_Q=0 and embarked_S=0, then embarked='C'\")"
   ]
  },
  {
   "cell_type": "markdown",
   "id": "c21e3faa",
   "metadata": {},
   "source": [
    "### Frequency Encoding (useful for high-cardinality features)"
   ]
  },
  {
   "cell_type": "code",
   "execution_count": 82,
   "id": "dc0b0966",
   "metadata": {},
   "outputs": [
    {
     "name": "stdout",
     "output_type": "stream",
     "text": [
      "Frequency encoding for 'class':\n",
      "    class class_frequency\n",
      "1   First           0.242\n",
      "9  Second           0.207\n",
      "0   Third           0.551\n",
      "\n",
      "This tells us: Third class is most common (~55%), First is least (~24%)\n"
     ]
    }
   ],
   "source": [
    "# Frequency encode 'class' - how often does each class appear?\n",
    "class_freq = df_encoded['class'].value_counts(normalize=True)\n",
    "df_encoded['class_frequency'] = df_encoded['class'].map(class_freq)\n",
    "\n",
    "print(\"Frequency encoding for 'class':\")\n",
    "print(df_encoded[['class', 'class_frequency']].drop_duplicates().sort_values('class'))\n",
    "print(\"\\nThis tells us: Third class is most common (~55%), First is least (~24%)\")"
   ]
  },
  {
   "cell_type": "markdown",
   "id": "e48b9330",
   "metadata": {},
   "source": [
    "## Feature Engineering Revisited\n",
    "\n",
    "Now let's create some new features from existing ones! This is where domain knowledge really shines.\n",
    "\n",
    "### Domain Knowledge Applied:\n",
    "- **Families** might have different survival rates\n",
    "- **Age groups** (children, adults, elderly) had different priorities\n",
    "- **Wealth indicators** like fare per person can be more informative than total fare"
   ]
  },
  {
   "cell_type": "code",
   "execution_count": 83,
   "id": "5c4a27d0",
   "metadata": {},
   "outputs": [
    {
     "name": "stdout",
     "output_type": "stream",
     "text": [
      "Family-based features created:\n",
      "   sibsp  parch  family_size  is_alone\n",
      "0  0.433 -0.474        0.959         0\n",
      "1  0.433 -0.474        0.959         0\n",
      "2 -0.475 -0.474        0.052         0\n",
      "3  0.433 -0.474        0.959         0\n",
      "4 -0.475 -0.474        0.052         0\n",
      "5 -0.475 -0.474        0.052         0\n",
      "6 -0.475 -0.474        0.052         0\n",
      "7  2.247  0.768        4.015         0\n",
      "8 -0.475  2.009        2.534         0\n",
      "9  0.433 -0.474        0.959         0\n",
      "\n",
      "Survival rate - Alone: nan%\n",
      "Survival rate - With family: 38.38%\n"
     ]
    }
   ],
   "source": [
    "# 1. Family Size Features\n",
    "# Combine siblings/spouses and parents/children, then add 1 for the person themselves\n",
    "df_encoded['family_size'] = df_encoded['sibsp'] + df_encoded['parch'] + 1\n",
    "\n",
    "# Is traveling alone?\n",
    "df_encoded['is_alone'] = (df_encoded['family_size'] == 1).astype(int)\n",
    "\n",
    "print(\"Family-based features created:\")\n",
    "print(df_encoded[['sibsp', 'parch', 'family_size', 'is_alone']].head(10))\n",
    "print(f\"\\nSurvival rate - Alone: {df_encoded[df_encoded['is_alone']==1]['survived'].mean():.2%}\")\n",
    "print(f\"Survival rate - With family: {df_encoded[df_encoded['is_alone']==0]['survived'].mean():.2%}\")"
   ]
  },
  {
   "cell_type": "code",
   "execution_count": 84,
   "id": "74d2e881",
   "metadata": {},
   "outputs": [
    {
     "name": "stdout",
     "output_type": "stream",
     "text": [
      "Age-based features created:\n",
      "      age  is_child  is_elderly\n",
      "0  -0.566         1           0\n",
      "1   0.664         1           0\n",
      "2  -0.258         1           0\n",
      "3   0.433         1           0\n",
      "4   0.433         1           0\n",
      "5  -0.105         1           0\n",
      "6   1.893         1           0\n",
      "7  -2.103         1           0\n",
      "8  -0.181         1           0\n",
      "9  -1.181         1           0\n",
      "10 -1.949         1           0\n",
      "11  2.201         1           0\n",
      "12 -0.719         1           0\n",
      "13  0.741         1           0\n",
      "14 -1.181         1           0\n",
      "\n",
      "Survival rate - Children: 38.38%\n",
      "Survival rate - Adults: nan%\n",
      "Survival rate - Elderly: nan%\n"
     ]
    }
   ],
   "source": [
    "# 2. Age-based Features\n",
    "# Is child? (under 18 - \"children first\" policy)\n",
    "df_encoded['is_child'] = (df_encoded['age'] < 18).astype(int)\n",
    "\n",
    "# Is elderly? (over 60)\n",
    "df_encoded['is_elderly'] = (df_encoded['age'] > 60).astype(int)\n",
    "\n",
    "print(\"Age-based features created:\")\n",
    "print(df_encoded[['age', 'is_child', 'is_elderly']].head(15))\n",
    "print(f\"\\nSurvival rate - Children: {df_encoded[df_encoded['is_child']==1]['survived'].mean():.2%}\")\n",
    "print(f\"Survival rate - Adults: {df_encoded[(df_encoded['is_child']==0) & (df_encoded['is_elderly']==0)]['survived'].mean():.2%}\")\n",
    "print(f\"Survival rate - Elderly: {df_encoded[df_encoded['is_elderly']==1]['survived'].mean():.2%}\")"
   ]
  },
  {
   "cell_type": "code",
   "execution_count": 85,
   "id": "9fee14a0",
   "metadata": {},
   "outputs": [
    {
     "name": "stdout",
     "output_type": "stream",
     "text": [
      "Fare-based features created:\n",
      "    fare  family_size  fare_per_person  pclass\n",
      "0 -0.502        0.959           -0.524       3\n",
      "1  0.787        0.959            0.820       1\n",
      "2 -0.489        0.052           -9.441       3\n",
      "3  0.421        0.959            0.439       1\n",
      "4 -0.486        0.052           -9.392       3\n",
      "5 -0.478        0.052           -9.233       3\n",
      "6  0.396        0.052            7.644       1\n",
      "7 -0.224        4.015           -0.056       3\n",
      "8 -0.424        2.534           -0.167       3\n",
      "9 -0.043        0.959           -0.045       2\n",
      "\n",
      "Average fare per person by class:\n",
      "pclass\n",
      "1    6.642\n",
      "2   -4.012\n",
      "3   -5.942\n",
      "Name: fare_per_person, dtype: float64\n",
      "\n",
      "✅ All new features created successfully!\n"
     ]
    }
   ],
   "source": [
    "# 3. Fare per Person (Wealth Indicator)\n",
    "# Total fare might be for a whole family, so divide by family size\n",
    "df_encoded['fare_per_person'] = df_encoded['fare'] / df_encoded['family_size']\n",
    "\n",
    "print(\"Fare-based features created:\")\n",
    "print(df_encoded[['fare', 'family_size', 'fare_per_person', 'pclass']].head(10))\n",
    "\n",
    "# Compare fare per person by class\n",
    "print(\"\\nAverage fare per person by class:\")\n",
    "print(df_encoded.groupby('pclass')['fare_per_person'].mean())\n",
    "\n",
    "print(\"\\n✅ All new features created successfully!\")"
   ]
  },
  {
   "cell_type": "markdown",
   "id": "27456c2d",
   "metadata": {},
   "source": [
    "## Feature Selection\n",
    "\n",
    "We've created many features! But more features ≠ better model. We need to select the most important ones.\n",
    "\n",
    "### Why Feature Selection?\n",
    "- **Reduces overfitting**: Fewer features = simpler, more generalizable model\n",
    "- **Faster training**: Less data to process\n",
    "- **Better interpretability**: Easier to understand what drives predictions\n",
    "- **Removes noise**: Irrelevant features can hurt performance\n",
    "\n",
    "### Methods:\n",
    "1. **Statistical Tests**: F-score, chi-squared\n",
    "2. **Correlation Analysis**: Which features correlate with target?\n",
    "3. **Feature Importance**: From tree-based models (bonus thing for you to explore)"
   ]
  },
  {
   "cell_type": "markdown",
   "id": "45705f33",
   "metadata": {},
   "source": [
    "### Correlation Analysis"
   ]
  },
  {
   "cell_type": "code",
   "execution_count": 86,
   "id": "1c167b7f",
   "metadata": {},
   "outputs": [
    {
     "name": "stdout",
     "output_type": "stream",
     "text": [
      "Top features correlated with survival:\n",
      "survived           1.000\n",
      "fare               0.257\n",
      "fare_per_person    0.224\n",
      "parch              0.082\n",
      "family_size        0.028\n",
      "sibsp             -0.035\n",
      "age               -0.065\n",
      "pclass            -0.338\n",
      "sex_encoded       -0.543\n",
      "is_alone             NaN\n",
      "is_child             NaN\n",
      "is_elderly           NaN\n",
      "Name: survived, dtype: float64\n"
     ]
    }
   ],
   "source": [
    "# Select only numerical features for correlation\n",
    "numerical_cols = df_encoded.select_dtypes(include=[np.number]).columns.tolist()\n",
    "\n",
    "# Calculate correlation with target (survived)\n",
    "correlations = df_encoded[numerical_cols].corr()['survived'].sort_values(ascending=False)\n",
    "\n",
    "print(\"Top features correlated with survival:\")\n",
    "print(correlations.head(15))"
   ]
  },
  {
   "cell_type": "markdown",
   "id": "2a060a57",
   "metadata": {},
   "source": [
    "### Visualize Feature Correlations"
   ]
  },
  {
   "cell_type": "code",
   "execution_count": 87,
   "id": "a6d94d93",
   "metadata": {},
   "outputs": [
    {
     "data": {
      "image/png": "[encoded data removed]",
      "text/plain": [
       "<Figure size 1000x800 with 2 Axes>"
      ]
     },
     "metadata": {},
     "output_type": "display_data"
    }
   ],
   "source": [
    "# Top correlated features\n",
    "top_features = correlations.head(10).index.tolist()\n",
    "top_features.remove('survived')  # Remove target itself\n",
    "\n",
    "# Create correlation heatmap\n",
    "plt.figure(figsize=(10, 8))\n",
    "correlation_matrix = df_encoded[top_features + ['survived']].corr()\n",
    "sns.heatmap(correlation_matrix, annot=True, cmap='coolwarm', center=0, \n",
    "            fmt='.2f', square=True, linewidths=1, yticklabels=True)\n",
    "plt.title('Correlation Heatmap: Top Features vs Survival')\n",
    "plt.gca().invert_yaxis()\n",
    "plt.tight_layout()\n",
    "plt.show()"
   ]
  },
  {
   "cell_type": "markdown",
   "id": "5425ce49",
   "metadata": {},
   "source": [
    "### SelectKBest (Statistical Feature Selection)"
   ]
  },
  {
   "cell_type": "code",
   "execution_count": 88,
   "id": "2288ccb2",
   "metadata": {},
   "outputs": [
    {
     "name": "stdout",
     "output_type": "stream",
     "text": [
      "Top features selected by F-score:\n",
      "1. pclass: 115.03\n",
      "2. age: 3.76\n",
      "3. parch: 5.96\n",
      "4. fare: 63.03\n",
      "5. sex_encoded: 372.41\n",
      "6. fare_per_person: 46.98\n"
     ]
    },
    {
     "name": "stderr",
     "output_type": "stream",
     "text": [
      "c:\\Users\\nehera\\AppData\\Local\\Programs\\Python\\Python313\\Lib\\site-packages\\sklearn\\feature_selection\\_univariate_selection.py:111: UserWarning: Features [7 8 9] are constant.\n",
      "  warnings.warn(\"Features %s are constant.\" % constant_features_idx, UserWarning)\n",
      "c:\\Users\\nehera\\AppData\\Local\\Programs\\Python\\Python313\\Lib\\site-packages\\sklearn\\feature_selection\\_univariate_selection.py:112: RuntimeWarning: invalid value encountered in divide\n",
      "  f = msb / msw\n"
     ]
    },
    {
     "data": {
      "image/png": "[encoded data removed]",
      "text/plain": [
       "<Figure size 1000x600 with 1 Axes>"
      ]
     },
     "metadata": {},
     "output_type": "display_data"
    }
   ],
   "source": [
    "# Prepare features and target\n",
    "X = df_encoded[numerical_cols].drop('survived', axis=1)\n",
    "y = df_encoded['survived']\n",
    "\n",
    "# Remove any remaining NaN values\n",
    "X = X.fillna(0)\n",
    "\n",
    "# Select top 10 features using F-score\n",
    "selector = SelectKBest(f_classif, k=6)\n",
    "selector.fit(X, y)\n",
    "\n",
    "# Get selected features\n",
    "selected_features = X.columns[selector.get_support()].tolist()\n",
    "\n",
    "print(\"Top features selected by F-score:\")\n",
    "for i, feature in enumerate(selected_features, 1):\n",
    "    score = selector.scores_[X.columns.get_loc(feature)]\n",
    "    print(f\"{i}. {feature}: {score:.2f}\")\n",
    "\n",
    "# Visualize the scores\n",
    "plt.figure(figsize=(10, 6))\n",
    "feature_scores = [selector.scores_[X.columns.get_loc(feature)] for feature in selected_features]\n",
    "plt.barh(selected_features, feature_scores, color='lightblue', edgecolor='navy')\n",
    "plt.xlabel('F-score')\n",
    "plt.title('Top 6 Features Selected by F-score')\n",
    "plt.gca().invert_yaxis()\n",
    "plt.tight_layout()\n",
    "plt.show()"
   ]
  },
  {
   "cell_type": "markdown",
   "id": "5d952cad",
   "metadata": {},
   "source": [
    "## Train-Test Split\n",
    "\n",
    "### Critical Concept: Never Test on Training Data!\n",
    "\n",
    "If we train and test on the same data, our model will appear perfect but fail on new data. This is called **overfitting**.\n",
    "\n",
    "### The Solution: Train-Test Split\n",
    "- **Training Set** (typically 70-80%): Used to train the model\n",
    "- **Test Set** (typically 20-30%): Used to evaluate the model\n",
    "\n",
    "The model NEVER sees the test set during training!\n",
    "\n",
    "### Important: When to Split?\n",
    "-  Split AFTER cleaning\n",
    "-  Split BEFORE feature scaling (to avoid data leakage)\n",
    "-  Use stratification for imbalanced datasets"
   ]
  },
  {
   "cell_type": "code",
   "execution_count": 89,
   "id": "898a1fc4",
   "metadata": {},
   "outputs": [
    {
     "name": "stdout",
     "output_type": "stream",
     "text": [
      "Dataset split completed!\n",
      "\n",
      "Training set: 712 samples\n",
      "Test set: 179 samples\n",
      "\n",
      "Features: 10\n",
      "\n",
      "Class distribution in training set:\n",
      "survived\n",
      "0    0.617\n",
      "1    0.383\n",
      "Name: proportion, dtype: float64\n",
      "\n",
      "Class distribution in test set:\n",
      "survived\n",
      "0    0.615\n",
      "1    0.385\n",
      "Name: proportion, dtype: float64\n",
      "\n",
      " Distributions are similar - stratification worked!\n"
     ]
    }
   ],
   "source": [
    "# Select our final features (using top correlated features)\n",
    "final_features = ['sex_encoded', 'pclass', 'fare', 'age', 'family_size', \n",
    "                  'fare_per_person', 'is_child', 'is_alone', 'embarked_Q', 'embarked_S']\n",
    "\n",
    "X_final = df_encoded[final_features].fillna(0)\n",
    "y_final = df_encoded['survived']\n",
    "\n",
    "# Perform the split\n",
    "# stratify=y ensures same proportion of survived/died in both sets\n",
    "X_train, X_test, y_train, y_test = train_test_split(\n",
    "    X_final, y_final, \n",
    "    test_size=0.2,      # 20% for testing\n",
    "    random_state=42,    # For reproducibility\n",
    "    stratify=y_final    # Maintain class distribution\n",
    ")\n",
    "\n",
    "print(\"Dataset split completed!\")\n",
    "print(f\"\\nTraining set: {X_train.shape[0]} samples\")\n",
    "print(f\"Test set: {X_test.shape[0]} samples\")\n",
    "print(f\"\\nFeatures: {X_train.shape[1]}\")\n",
    "\n",
    "print(\"\\nClass distribution in training set:\")\n",
    "print(y_train.value_counts(normalize=True))\n",
    "\n",
    "print(\"\\nClass distribution in test set:\")\n",
    "print(y_test.value_counts(normalize=True))\n",
    "print(\"\\n Distributions are similar - stratification worked!\")"
   ]
  },
  {
   "cell_type": "markdown",
   "id": "bbbeb80c",
   "metadata": {},
   "source": [
    "### Scaling AFTER Split (Critical!)"
   ]
  },
  {
   "cell_type": "code",
   "execution_count": 90,
   "id": "63f3105c",
   "metadata": {},
   "outputs": [
    {
     "name": "stdout",
     "output_type": "stream",
     "text": [
      "Scaling completed!\n",
      "\n",
      "Training set statistics (after scaling):\n",
      "       sex_encoded     pclass       fare        age  family_size  \\\n",
      "count    7.120e+02  7.120e+02  7.120e+02  7.120e+02    7.120e+02   \n",
      "mean    -9.980e-18 -1.821e-16 -1.996e-17 -2.994e-17    9.231e-17   \n",
      "std      1.001e+00  1.001e+00  1.001e+00  1.001e+00    1.001e+00   \n",
      "min     -1.347e+00 -1.571e+00 -6.626e-01 -2.229e+00   -5.579e-01   \n",
      "25%     -1.347e+00 -3.709e-01 -4.982e-01 -5.727e-01   -5.579e-01   \n",
      "50%      7.424e-01  8.296e-01 -3.616e-01 -1.121e-01   -5.579e-01   \n",
      "75%      7.424e-01  8.296e-01 -1.707e-02  5.021e-01    1.852e-01   \n",
      "max      7.424e-01  8.296e-01  1.001e+01  3.880e+00    5.274e+00   \n",
      "\n",
      "       fare_per_person  is_child  is_alone  embarked_Q  embarked_S  \n",
      "count        7.120e+02     712.0     712.0   7.120e+02   7.120e+02  \n",
      "mean         2.495e-18       0.0       0.0  -5.239e-17   1.497e-16  \n",
      "std          1.001e+00       0.0       0.0   1.001e+00   1.001e+00  \n",
      "min         -7.346e-01       0.0       0.0  -2.893e-01  -1.634e+00  \n",
      "25%         -5.132e-01       0.0       0.0  -2.893e-01  -1.634e+00  \n",
      "50%          7.116e-03       0.0       0.0  -2.893e-01   6.120e-01  \n",
      "75%          1.642e-01       0.0       0.0  -2.893e-01   6.120e-01  \n",
      "max          1.358e+01       0.0       0.0   3.456e+00   6.120e-01  \n",
      "\"Why fit only on training data?\n",
      "To prevent DATA LEAKAGE: Test data information shouldn't influence training!\n"
     ]
    }
   ],
   "source": [
    "# Initialize scaler\n",
    "scaler = StandardScaler()\n",
    "\n",
    "# Fit ONLY on training data\n",
    "scaler.fit(X_train)\n",
    "\n",
    "# Transform both sets using the same scaler\n",
    "X_train_scaled = scaler.fit_transform(X_train)\n",
    "X_test_scaled = scaler.transform(X_test)\n",
    "\n",
    "# Convert back to DataFrames for easier viewing\n",
    "X_train_scaled = pd.DataFrame(X_train_scaled, columns=X_train.columns, index=X_train.index)\n",
    "X_test_scaled = pd.DataFrame(X_test_scaled, columns=X_test.columns, index=X_test.index)\n",
    "\n",
    "print(\"Scaling completed!\")\n",
    "print(\"\\nTraining set statistics (after scaling):\")\n",
    "print(X_train_scaled.describe())\n",
    "\n",
    "print(\"\\\"Why fit only on training data?\")\n",
    "print(\"To prevent DATA LEAKAGE: Test data information shouldn't influence training!\")"
   ]
  },
  {
   "cell_type": "markdown",
   "id": "7ae32c71",
   "metadata": {},
   "source": [
    "## Step 6: Handling Imbalanced Data\n",
    "\n",
    "Let's check if our classes are balanced:"
   ]
  },
  {
   "cell_type": "code",
   "execution_count": 91,
   "id": "fcd279ba",
   "metadata": {},
   "outputs": [
    {
     "name": "stdout",
     "output_type": "stream",
     "text": [
      "Class Distribution:\n",
      "Died (0): 439 (61.7%)\n",
      "Survived (1): 273 (38.3%)\n",
      "\n",
      "Imbalance ratio: 1.61:1\n",
      "\n",
      "Classes are somewhat imbalanced!\n",
      "This is moderate imbalance. Consider:\n",
      "- Using class_weight='balanced' in models\n",
      "- Focusing on precision/recall instead of just accuracy\n",
      "- Using stratified sampling (already done!)\n"
     ]
    },
    {
     "data": {
      "image/png": "[encoded data removed]",
      "text/plain": [
       "<Figure size 800x500 with 1 Axes>"
      ]
     },
     "metadata": {},
     "output_type": "display_data"
    }
   ],
   "source": [
    "# Check class balance\n",
    "class_distribution = y_train.value_counts()\n",
    "class_percentages = y_train.value_counts(normalize=True) * 100\n",
    "\n",
    "print(\"Class Distribution:\")\n",
    "print(f\"Died (0): {class_distribution[0]} ({class_percentages[0]:.1f}%)\")\n",
    "print(f\"Survived (1): {class_distribution[1]} ({class_percentages[1]:.1f}%)\")\n",
    "\n",
    "imbalance_ratio = class_distribution[0] / class_distribution[1]\n",
    "print(f\"\\nImbalance ratio: {imbalance_ratio:.2f}:1\")\n",
    "\n",
    "if imbalance_ratio > 1.5:\n",
    "    print(\"\\nClasses are somewhat imbalanced!\")\n",
    "    print(\"This is moderate imbalance. Consider:\")\n",
    "    print(\"- Using class_weight='balanced' in models\")\n",
    "    print(\"- Focusing on precision/recall instead of just accuracy\")\n",
    "    print(\"- Using stratified sampling (already done!)\")\n",
    "else:\n",
    "    print(\"\\nClasses are reasonably balanced!\")\n",
    "\n",
    "# Visualize\n",
    "plt.figure(figsize=(8, 5))\n",
    "plt.bar(['Died', 'Survived'], class_distribution.values, color=['coral', 'skyblue'])\n",
    "plt.title('Class Distribution in Training Set')\n",
    "plt.ylabel('Count')\n",
    "plt.grid(axis='y', alpha=0.3)\n",
    "for i, v in enumerate(class_distribution.values):\n",
    "    plt.text(i, v + 10, str(v), ha='center', fontweight='bold')\n",
    "plt.tight_layout()\n",
    "plt.show()"
   ]
  },
  {
   "cell_type": "markdown",
   "id": "8b706c24",
   "metadata": {},
   "source": [
    "## Step 7: Final Data Summary\n",
    "\n",
    "Let's review what we've prepared for machine learning!"
   ]
  },
  {
   "cell_type": "code",
   "execution_count": 92,
   "id": "65a1a3e0",
   "metadata": {},
   "outputs": [
    {
     "name": "stdout",
     "output_type": "stream",
     "text": [
      "============================================================\n",
      "FINAL ML-READY DATASET SUMMARY\n",
      "============================================================\n",
      "\n",
      "Dataset Shape:\n",
      "   Training: (712, 10)\n",
      "   Testing:  (179, 10)\n",
      "\n",
      "Target Variable:\n",
      "   Name: 'survived' (binary: 0=died, 1=survived)\n",
      "   Training samples: 712\n",
      "   Test samples: 179\n",
      "\n",
      "Features Used:\n",
      "   1. sex_encoded\n",
      "   2. pclass\n",
      "   3. fare\n",
      "   4. age\n",
      "   5. family_size\n",
      "   6. fare_per_person\n",
      "   7. is_child\n",
      "   8. is_alone\n",
      "   9. embarked_Q\n",
      "   10. embarked_S\n",
      "\n",
      "Preprocessing Applied:\n",
      "   - Missing values handled (median/mode imputation)\n",
      "   - Features scaled (StandardScaler)\n",
      "   - Categorical variables encoded (Label + One-Hot)\n",
      "   - New features engineered (family_size, fare_per_person, etc.)\n",
      "   - Train-test split performed (80-20)\n",
      "   - Stratified sampling to maintain class balance\n",
      "\n",
      "Data is ready for machine learning models!\n",
      "============================================================\n"
     ]
    }
   ],
   "source": [
    "print(\"=\"*60)\n",
    "print(\"FINAL ML-READY DATASET SUMMARY\")\n",
    "print(\"=\"*60)\n",
    "\n",
    "print(\"\\nDataset Shape:\")\n",
    "print(f\"   Training: {X_train_scaled.shape}\")\n",
    "print(f\"   Testing:  {X_test_scaled.shape}\")\n",
    "\n",
    "print(\"\\nTarget Variable:\")\n",
    "print(f\"   Name: 'survived' (binary: 0=died, 1=survived)\")\n",
    "print(f\"   Training samples: {len(y_train)}\")\n",
    "print(f\"   Test samples: {len(y_test)}\")\n",
    "\n",
    "print(\"\\nFeatures Used:\")\n",
    "for i, feature in enumerate(final_features, 1):\n",
    "    print(f\"   {i}. {feature}\")\n",
    "\n",
    "print(\"\\nPreprocessing Applied:\")\n",
    "print(\"   - Missing values handled (median/mode imputation)\")\n",
    "print(\"   - Features scaled (StandardScaler)\")\n",
    "print(\"   - Categorical variables encoded (Label + One-Hot)\")\n",
    "print(\"   - New features engineered (family_size, fare_per_person, etc.)\")\n",
    "print(\"   - Train-test split performed (80-20)\")\n",
    "print(\"   - Stratified sampling to maintain class balance\")\n",
    "\n",
    "print(\"\\nData is ready for machine learning models!\")\n",
    "print(\"=\"*60)"
   ]
  },
  {
   "cell_type": "markdown",
   "id": "46fa1799",
   "metadata": {},
   "source": [
    "### Additional Techniques to Explore:\n",
    "\n",
    "- **PCA** (Principal Component Analysis) - Dimensionality reduction\n",
    "- **Polynomial Features** - Create interaction terms automatically\n",
    "- **Target Encoding** - Use target statistics for encoding\n",
    "- **SMOTE** - Synthetic data generation for imbalanced classes\n",
    "- **Feature Importance** - From tree-based models\n",
    "\n",
    "##### Never stop learning! If you stop learning, you'll get left behind in this industry."
   ]
  },
  {
   "cell_type": "markdown",
   "id": "381ba0a6",
   "metadata": {},
   "source": [
    "## Practice Exercise: Apply to Iris Dataset\n",
    "\n",
    "Now it's your turn! Apply these techniques to the Iris dataset from the previous tutorial.\n",
    "\n",
    "**Tasks:**\n",
    "1. Load the Iris dataset from `data/Iris.csv`\n",
    "2. Encode the Species column\n",
    "3. Split into train-test sets (80-20)\n",
    "4. Scale the features using StandardScaler\n",
    "5. Check if the classes are balanced"
   ]
  },
  {
   "cell_type": "code",
   "execution_count": null,
   "id": "6c139cfc",
   "metadata": {},
   "outputs": [
    {
     "ename": "TypeError",
     "evalue": "cannot unpack non-iterable ellipsis object",
     "output_type": "error",
     "traceback": [
      "\u001b[1;31m---------------------------------------------------------------------------\u001b[0m",
      "\u001b[1;31mTypeError\u001b[0m                                 Traceback (most recent call last)",
      "Cell \u001b[1;32mIn[93], line 10\u001b[0m\n\u001b[0;32m      5\u001b[0m y \u001b[38;5;241m=\u001b[39m \u001b[38;5;241m.\u001b[39m\u001b[38;5;241m.\u001b[39m\u001b[38;5;241m.\u001b[39m\n\u001b[0;32m      7\u001b[0m \u001b[38;5;66;03m# Encode species using LabelEncoder\u001b[39;00m\n\u001b[0;32m      8\u001b[0m \n\u001b[0;32m      9\u001b[0m \u001b[38;5;66;03m# Perform train-test split\u001b[39;00m\n\u001b[1;32m---> 10\u001b[0m X_train, X_test, y_train, y_test \u001b[38;5;241m=\u001b[39m \u001b[38;5;241m.\u001b[39m\u001b[38;5;241m.\u001b[39m\u001b[38;5;241m.\u001b[39m\n\u001b[0;32m     12\u001b[0m \u001b[38;5;66;03m# Print the 4 dataset shapes\u001b[39;00m\n\u001b[0;32m     13\u001b[0m \n\u001b[0;32m     14\u001b[0m \u001b[38;5;66;03m# Scale features using StandardScaler (remember fit_transform vs transform)\u001b[39;00m\n\u001b[0;32m     15\u001b[0m scaler \u001b[38;5;241m=\u001b[39m StandardScaler()\n",
      "\u001b[1;31mTypeError\u001b[0m: cannot unpack non-iterable ellipsis object"
     ]
    }
   ],
   "source": [
    "# Load the Iris dataset\n",
    "\n",
    "# Separate features and target\n",
    "X = ...\n",
    "y = ...\n",
    "\n",
    "# Encode species using LabelEncoder\n",
    "le = LabelEncoder()\n",
    "y = ...\n",
    "\n",
    "# Perform train-test split\n",
    "X_train, X_test, y_train, y_test = ...\n",
    "\n",
    "# Print the 4 dataset shapes\n",
    "\n",
    "# Scale features using StandardScaler (fit_transform for training vs transform for test)\n",
    "scaler = StandardScaler()\n",
    "X_train = ...\n",
    "X_test = ...\n",
    "\n",
    "# Show the mean and std of scaled features\n",
    "print(\"\\nScaled feature statistics (training set):\")\n",
    "print(f\"Mean (should be ~0): {np.mean(X_train, axis=0)}\")\n",
    "print(f\"Std (should be ~1): {np.std(X_train, axis=0)}\\n\")\n",
    "\n",
    "# Visualize class distribution\n",
    "unique, counts = np.unique(y_train, return_counts=True)\n",
    "class_distribution = dict(zip(le.inverse_transform(unique), counts))\n",
    "classes = class_distribution.keys()\n",
    "counts = class_distribution.values()\n",
    "\n",
    "plt.figure(figsize=(8, 5))\n",
    "# Matplotlib bar chart goes here - make each bar a different color :)\n",
    "plt.show()\n"
   ]
  },
  {
   "cell_type": "code",
   "execution_count": null,
   "id": "e336382b",
   "metadata": {},
   "outputs": [],
   "source": []
  }
 ],
 "metadata": {
  "kernelspec": {
   "display_name": "Python 3",
   "language": "python",
   "name": "python3"
  },
  "language_info": {
   "codemirror_mode": {
    "name": "ipython",
    "version": 3
   },
   "file_extension": ".py",
   "mimetype": "text/x-python",
   "name": "python",
   "nbconvert_exporter": "python",
   "pygments_lexer": "ipython3",
   "version": "3.13.0"
  }
 },
 "nbformat": 4,
 "nbformat_minor": 5
}
